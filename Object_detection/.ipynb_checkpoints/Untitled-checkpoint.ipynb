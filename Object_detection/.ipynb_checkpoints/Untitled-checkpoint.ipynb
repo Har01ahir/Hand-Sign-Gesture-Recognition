{
 "cells": [
  {
   "cell_type": "code",
   "execution_count": 1,
   "id": "514fd32a",
   "metadata": {},
   "outputs": [],
   "source": [
    "#!pip install opencv-python"
   ]
  },
  {
   "cell_type": "code",
   "execution_count": 2,
   "id": "3cb2edc2",
   "metadata": {},
   "outputs": [],
   "source": [
    "import cv2 #opencv\n",
    "import os\n",
    "import time\n",
    "import uuid"
   ]
  },
  {
   "cell_type": "code",
   "execution_count": 3,
   "id": "01518f4e",
   "metadata": {},
   "outputs": [],
   "source": [
    "IMAGES_PATH=r'C:\\Users\\hardi\\Project-Sign_Detection/Tensorflow/workspace/images/collectedimages'"
   ]
  },
  {
   "cell_type": "code",
   "execution_count": 4,
   "id": "cf2f2489",
   "metadata": {},
   "outputs": [],
   "source": [
    "labels = ['Hello','Thanks','Yes','No','ILoveYou']\n",
    "number_imgs =15"
   ]
  },
  {
   "cell_type": "code",
   "execution_count": 5,
   "id": "4d299e9e",
   "metadata": {
    "scrolled": false
   },
   "outputs": [
    {
     "name": "stdout",
     "output_type": "stream",
     "text": [
      "Collecting images for Hello\n",
      "answer is : True\n",
      "answer is : True\n",
      "answer is : True\n",
      "answer is : True\n",
      "answer is : True\n",
      "answer is : True\n",
      "answer is : True\n",
      "answer is : True\n",
      "answer is : True\n",
      "answer is : True\n",
      "answer is : True\n",
      "answer is : True\n",
      "answer is : True\n",
      "answer is : True\n",
      "answer is : True\n",
      "Ended\n",
      "Collecting images for Thanks\n",
      "answer is : True\n",
      "answer is : True\n",
      "answer is : True\n",
      "answer is : True\n",
      "answer is : True\n",
      "answer is : True\n",
      "answer is : True\n",
      "answer is : True\n",
      "answer is : True\n",
      "answer is : True\n",
      "answer is : True\n",
      "answer is : True\n",
      "answer is : True\n",
      "answer is : True\n",
      "answer is : True\n",
      "Ended\n",
      "Collecting images for Yes\n",
      "answer is : True\n",
      "answer is : True\n",
      "answer is : True\n",
      "answer is : True\n",
      "answer is : True\n",
      "answer is : True\n",
      "answer is : True\n",
      "answer is : True\n",
      "answer is : True\n",
      "answer is : True\n",
      "answer is : True\n",
      "answer is : True\n",
      "answer is : True\n",
      "answer is : True\n",
      "answer is : True\n",
      "Ended\n",
      "Collecting images for No\n",
      "answer is : True\n",
      "answer is : True\n",
      "answer is : True\n",
      "answer is : True\n",
      "answer is : True\n",
      "answer is : True\n",
      "answer is : True\n",
      "answer is : True\n",
      "answer is : True\n",
      "answer is : True\n",
      "answer is : True\n",
      "answer is : True\n",
      "answer is : True\n",
      "answer is : True\n",
      "answer is : True\n",
      "Ended\n",
      "Collecting images for ILoveYou\n",
      "answer is : True\n",
      "answer is : True\n",
      "answer is : True\n",
      "answer is : True\n",
      "answer is : True\n",
      "answer is : True\n",
      "answer is : True\n",
      "answer is : True\n",
      "answer is : True\n",
      "answer is : True\n",
      "answer is : True\n",
      "answer is : True\n",
      "answer is : True\n",
      "answer is : True\n",
      "answer is : True\n",
      "Ended\n"
     ]
    }
   ],
   "source": [
    "cnt = 0\n",
    "for label in labels:\n",
    "    os.mkdir(os.path.join(IMAGES_PATH, label))\n",
    "    cap = cv2.VideoCapture(0)\n",
    "    print('Collecting images for {}'.format(label))\n",
    "    time.sleep(5)\n",
    "    for imgnum in range(number_imgs):\n",
    "        ret, frame = cap.read()\n",
    "        imgname = os.path.join(IMAGES_PATH, label, label+'-'+'{}.jpg'.format(str(cnt)))\n",
    "        cnt+=1\n",
    "#         imgname = os.path.join(IMAGES_PATH, label, label+'-'+'{}.jpg'.format(str(uuid.uuid1())))\n",
    "        print(f'answer is : {cap.isOpened()}')\n",
    "        cv2.imwrite(imgname, frame)\n",
    "        cv2.imshow('frame',frame)\n",
    "        time.sleep(2)\n",
    "        \n",
    "    if cv2.waitKey(1):\n",
    "        print(\"Ended\")\n",
    "        continue\n",
    "        #         break\n",
    "    cap.release()\n",
    "\n",
    "    \n",
    "cv2.destroyAllWindows()"
   ]
  },
  {
   "cell_type": "code",
   "execution_count": 6,
   "id": "efc67c12",
   "metadata": {},
   "outputs": [
    {
     "data": {
      "text/plain": [
       "'c1294b20-c0ae-11ec-936e-c17e6d24061b'"
      ]
     },
     "execution_count": 6,
     "metadata": {},
     "output_type": "execute_result"
    }
   ],
   "source": [
    "str(uuid.uuid1())"
   ]
  },
  {
   "cell_type": "code",
   "execution_count": null,
   "id": "93c9937b",
   "metadata": {},
   "outputs": [],
   "source": []
  }
 ],
 "metadata": {
  "kernelspec": {
   "display_name": "Python 3 (ipykernel)",
   "language": "python",
   "name": "python3"
  },
  "language_info": {
   "codemirror_mode": {
    "name": "ipython",
    "version": 3
   },
   "file_extension": ".py",
   "mimetype": "text/x-python",
   "name": "python",
   "nbconvert_exporter": "python",
   "pygments_lexer": "ipython3",
   "version": "3.9.7"
  }
 },
 "nbformat": 4,
 "nbformat_minor": 5
}
